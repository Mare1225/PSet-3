{
 "cells": [
  {
   "cell_type": "code",
   "execution_count": 87,
   "id": "9e9b0c57",
   "metadata": {},
   "outputs": [],
   "source": [
    "from pyspark.sql import SparkSession, functions as F, types as T\n",
    "from pyspark.sql.window import Window\n",
    "from pyspark import SparkConf\n",
    "from dotenv import load_dotenv\n",
    "import os"
   ]
  },
  {
   "cell_type": "code",
   "execution_count": 91,
   "id": "151739da",
   "metadata": {},
   "outputs": [],
   "source": [
    "query = \"\"\"\n",
    "CREATE OR REPLACE TABLE NY_TAXI.STAGE.OBT_TRIPS AS\n",
    "SELECT\n",
    "    -- tiempo\n",
    "    PICKUP_DATETIME,\n",
    "    DROPOFF_DATETIME,\n",
    "    TO_DATE(PICKUP_DATETIME) AS PICKUP_DATE,\n",
    "    EXTRACT(HOUR FROM PICKUP_DATETIME) AS PICKUP_HOUR,\n",
    "    TO_DATE(DROPOFF_DATETIME) AS DROPOFF_DATE,\n",
    "    EXTRACT(HOUR FROM DROPOFF_DATETIME) AS DROPOFF_HOUR,\n",
    "    DAYOFWEEK(PICKUP_DATETIME) AS DAY_OF_WEEK,\n",
    "    MONTH(PICKUP_DATETIME) AS MONTH,\n",
    "    YEAR(PICKUP_DATETIME) AS YEAR,\n",
    "\n",
    "    -- ubicacion\n",
    "    PULOCATIONID AS PU_LOCATION_ID,\n",
    "    PICKUP_ZONE AS PU_ZONE,\n",
    "    PICKUP_BOROUGH AS PU_BOROUGH,\n",
    "    DOLOCATIONID AS DO_LOCATION_ID,\n",
    "    DROPOFF_ZONE AS DO_ZONE,\n",
    "    DROPOFF_BOROUGH AS DO_BOROUGH,\n",
    "    \n",
    "    -- servicios y codigos\n",
    "    SERVICE_TYPE,\n",
    "    VENDORID AS VENDOR_ID,\n",
    "    VENDORID_DESC AS VENDOR_NAME,\n",
    "    RATECODEID AS RATE_CODE_ID,\n",
    "    RATECODE_DESC AS RATE_CODE_DESC,\n",
    "    PAYMENT_TYPE,\n",
    "    PAYMENT_TYPE_DESC,\n",
    "    TRIP_TYPE,\n",
    "    TRIP_TYPE_DESC,\n",
    "\n",
    "    -- viaje\n",
    "    PASSENGER_COUNT,\n",
    "    TRIP_DISTANCE,\n",
    "    STORE_AND_FWD_FLAG_DESC AS STORE_AND_FWD_FLAG,\n",
    "    \n",
    "    -- tarifas\n",
    "    FARE_AMOUNT,\n",
    "    EXTRA,\n",
    "    MTA_TAX,\n",
    "    TIP_AMOUNT,\n",
    "    TOLLS_AMOUNT,\n",
    "    IMPROVEMENT_SURCHARGE,\n",
    "    CONGESTION_SURCHARGE,\n",
    "    AIRPORT_FEE,\n",
    "    TOTAL_AMOUNT,\n",
    "\n",
    "    -- derivadas\n",
    "    TRIP_DURATION_MINUTES AS TRIP_DURATION_MIN,\n",
    "    CASE \n",
    "        WHEN TRIP_DURATION_MINUTES > 0 \n",
    "        THEN (TRIP_DISTANCE / (TRIP_DURATION_MINUTES / 60)) \n",
    "        ELSE NULL \n",
    "    END AS AVG_SPEED_MPH,\n",
    "    CASE \n",
    "        WHEN TOTAL_AMOUNT > 0 \n",
    "        THEN (TIP_AMOUNT / TOTAL_AMOUNT) * 100 \n",
    "        ELSE NULL \n",
    "    END AS TIP_PCT,\n",
    "\n",
    "    -- lineage\n",
    "    RUN_ID,\n",
    "    INGESTED_AT_UTC,\n",
    "    SERVICE_TYPE AS SOURCE_SERVICE,\n",
    "    SOURCE_YEAR,\n",
    "    SOURCE_MONTH\n",
    "FROM NY_TAXI.RAW.TAXI_TRIPS_ENRICHED;\n",
    "\"\"\""
   ]
  },
  {
   "cell_type": "code",
   "execution_count": 92,
   "id": "3534cf0d",
   "metadata": {},
   "outputs": [
    {
     "name": "stdout",
     "output_type": "stream",
     "text": [
      "Cursor creado\n",
      "Tabla OBT_TRIPs creada exitosamente\n"
     ]
    }
   ],
   "source": [
    "import snowflake.connector\n",
    "\n",
    "conn = snowflake.connector.connect(\n",
    "    #Se tiene que cambiar a los secretosAAAAAAA\n",
    "    user=\"MARE122510\",\n",
    "    password=\"MyTurnEra2025100%\",\n",
    "    account=\"TLZAPUN-PKC06603\",\n",
    "    warehouse=\"COMPUTE_WH\",\n",
    "    database=\"NY_TAXI\",\n",
    "    schema=\"STAGE\",\n",
    "    role =os.getenv('ROLE')\n",
    ")\n",
    "\n",
    "cur = conn.cursor()\n",
    "print(\"Cursor creado\")\n",
    "\n",
    "cur.execute(query)\n",
    "print(\"Tabla OBT_TRIPs creada exitosamente\")\n",
    "\n",
    "cur.close()\n",
    "conn.close()\n"
   ]
  }
 ],
 "metadata": {
  "kernelspec": {
   "display_name": "Python 3 (ipykernel)",
   "language": "python",
   "name": "python3"
  },
  "language_info": {
   "codemirror_mode": {
    "name": "ipython",
    "version": 3
   },
   "file_extension": ".py",
   "mimetype": "text/x-python",
   "name": "python",
   "nbconvert_exporter": "python",
   "pygments_lexer": "ipython3",
   "version": "3.11.6"
  }
 },
 "nbformat": 4,
 "nbformat_minor": 5
}
