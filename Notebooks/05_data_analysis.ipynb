{
 "cells": [
  {
   "cell_type": "code",
   "execution_count": 3,
   "id": "32507232-cd9e-49de-9abf-4a1a9395416d",
   "metadata": {},
   "outputs": [],
   "source": [
    "from pyspark.sql import SparkSession, functions as F, types as T\n",
    "from pyspark import SparkConf\n",
    "from dotenv import load_dotenv\n",
    "import os"
   ]
  },
  {
   "cell_type": "code",
   "execution_count": 4,
   "id": "17f79132-3a0d-4fa3-9f15-85a92b7607fb",
   "metadata": {},
   "outputs": [],
   "source": [
    "conf = SparkConf()\n",
    "conf.set(\"spark.jars.packages\", \"net.snowflake:snowflake-jdbc:3.24.2,net.snowflake:spark-snowflake_2.12:3.1.2\") \n",
    "spark = SparkSession.builder \\\n",
    "    .config(conf=conf) \\\n",
    "    .getOrCreate() "
   ]
  },
  {
   "cell_type": "code",
   "execution_count": null,
   "id": "62a71723-29b2-460e-be05-f37f86c3d70a",
   "metadata": {},
   "outputs": [],
   "source": [
    "load_dotenv(dotenv_path=\"/home/jovyan/work/.env\")\n",
    "\n",
    "sfOptions = { \n",
    "    \"sfURL\" : os.getenv(\"URL\"),\n",
    "    \"sfDatabase\" : os.getenv(\"DB\"),\n",
    "    \"sfSchema\" : os.getenv(\"SCHEMA\"),\n",
    "    \"sfWarehouse\" :os.getenv(\"WH\"),\n",
    "    \"sfRole\" : os.getenv(\"ROLE\"),\n",
    "    \"sfUser\" : os.getenv(\"USER\"),\n",
    "    \"sfPassword\" : os.getenv(\"PASSWORD\")\n",
    "}\n",
    "\n",
    "\n",
    "df = spark.read \\\n",
    "    .format(\"snowflake\") \\\n",
    "    .options(**sfOptions) \\\n",
    "    .option(\"dbtable\", \"STAGE.OBT_TRIPS\") \\\n",
    "    .load()"
   ]
  },
  {
   "cell_type": "markdown",
   "id": "95b8614e",
   "metadata": {},
   "source": [
    "a. Top 10 zonas de pickup por volumen mensual "
   ]
  },
  {
   "cell_type": "code",
   "execution_count": 4,
   "id": "611eb74a-4c00-46db-996b-b7f6484162f1",
   "metadata": {},
   "outputs": [
    {
     "name": "stdout",
     "output_type": "stream",
     "text": [
      "+-----+--------------------+---------+\n",
      "|MONTH|             PU_ZONE|num_trips|\n",
      "+-----+--------------------+---------+\n",
      "|    1|Upper East Side S...|  2883879|\n",
      "|    1|Upper East Side N...|  2773822|\n",
      "|    1|      Midtown Center|  2720475|\n",
      "|    1|        Midtown East|  2363997|\n",
      "|    1|Times Sq/Theatre ...|  2351888|\n",
      "|    1|Penn Station/Madi...|  2320950|\n",
      "|    1|            Union Sq|  2173714|\n",
      "|    1|         Murray Hill|  2146120|\n",
      "|    1|        Clinton East|  2081269|\n",
      "|    1| Lincoln Square East|  2060589|\n",
      "|    1|        East Village|  1991352|\n",
      "|    1|         JFK Airport|  1909270|\n",
      "|    1|       Midtown North|  1852674|\n",
      "|    1|Upper West Side S...|  1829820|\n",
      "|    1|     Lenox Hill West|  1712673|\n",
      "|    1|        East Chelsea|  1656011|\n",
      "|    1|            Gramercy|  1654541|\n",
      "|    1|   LaGuardia Airport|  1618666|\n",
      "|    1|       Midtown South|  1584655|\n",
      "|    1|        West Village|  1467908|\n",
      "+-----+--------------------+---------+\n",
      "only showing top 20 rows\n",
      "\n"
     ]
    }
   ],
   "source": [
    "top_pickup = (\n",
    "    df.groupBy(\"MONTH\", \"PU_ZONE\")\n",
    "      .agg(F.count(\"*\").alias(\"num_trips\"))\n",
    "      .orderBy( \"MONTH\", F.col(\"num_trips\").desc())\n",
    ")\n",
    "top_pickup.show()"
   ]
  },
  {
   "cell_type": "markdown",
   "id": "20f61b09",
   "metadata": {},
   "source": [
    "Esta tabla recopila el orden por volumen de cada mes y su correspondiente zona. En este caso podemos ver que de el mes de enero(global) tiene dentro de su top 10: Upper East Side, hasta Lincoln Square East"
   ]
  },
  {
   "cell_type": "markdown",
   "id": "8a2052f5",
   "metadata": {},
   "source": [
    "b. Top 10 zonas de dropoff por volumen mensual "
   ]
  },
  {
   "cell_type": "code",
   "execution_count": 5,
   "id": "fe9babde-9155-490e-b09c-584902af936f",
   "metadata": {},
   "outputs": [
    {
     "name": "stdout",
     "output_type": "stream",
     "text": [
      "+-----+--------------------+---------+\n",
      "|MONTH|             DO_ZONE|num_trips|\n",
      "+-----+--------------------+---------+\n",
      "|    1|Upper East Side N...|  2933573|\n",
      "|    1|Upper East Side S...|  2597709|\n",
      "|    1|      Midtown Center|  2590444|\n",
      "|    1|         Murray Hill|  2178945|\n",
      "|    1|Times Sq/Theatre ...|  2092417|\n",
      "|    1|        Midtown East|  2060039|\n",
      "|    1| Lincoln Square East|  1902618|\n",
      "|    1|            Union Sq|  1896976|\n",
      "|    1|        Clinton East|  1871501|\n",
      "|    1|Upper West Side S...|  1836622|\n",
      "|    1|     Lenox Hill West|  1792438|\n",
      "|    1|Penn Station/Madi...|  1768166|\n",
      "|    1|        East Village|  1719326|\n",
      "|    1|       Midtown North|  1651736|\n",
      "|    1|        East Chelsea|  1594994|\n",
      "|    1|Upper West Side N...|  1582644|\n",
      "|    1|            Gramercy|  1501990|\n",
      "|    1|      Yorkville West|  1438814|\n",
      "|    1|       Midtown South|  1426708|\n",
      "|    1|     Lenox Hill East|  1377503|\n",
      "+-----+--------------------+---------+\n",
      "only showing top 20 rows\n",
      "\n"
     ]
    }
   ],
   "source": [
    "top_dropoff = (\n",
    "    df.groupBy(\"MONTH\", \"DO_ZONE\")\n",
    "      .agg(F.count(\"*\").alias(\"num_trips\"))\n",
    "      .orderBy( \"MONTH\", F.col(\"num_trips\").desc())\n",
    ")\n",
    "top_dropoff.show()"
   ]
  },
  {
   "cell_type": "markdown",
   "id": "23b3f9ec",
   "metadata": {},
   "source": [
    "Esta tabla recopila el orden por volumen de cada mes y su correspondiente zona. En este caso podemos ver que de el mes de enero(global) tiene dentro de su top 10: Upper East Side, hasta Uper West Side (en el caso de dropoff, el top cambia con respecto a la pregunta anterior)"
   ]
  },
  {
   "cell_type": "markdown",
   "id": "4c69751b",
   "metadata": {},
   "source": [
    "c. Evolución mensual de total_amount y tip_pct por borough"
   ]
  },
  {
   "cell_type": "code",
   "execution_count": 6,
   "id": "54bf9fb6-15d6-40df-a389-6f0a32c305c5",
   "metadata": {},
   "outputs": [
    {
     "name": "stdout",
     "output_type": "stream",
     "text": [
      "+-----+----------+----------------+-----------+\n",
      "|MONTH|PU_BOROUGH|avg_total_amount|avg_tip_pct|\n",
      "+-----+----------+----------------+-----------+\n",
      "|1    |Bronx     |18.61           |2.16       |\n",
      "|2    |Bronx     |19.14           |1.76       |\n",
      "|3    |Bronx     |18.96           |1.82       |\n",
      "|4    |Bronx     |19.72           |2.26       |\n",
      "|5    |Bronx     |19.98           |2.34       |\n",
      "|6    |Bronx     |20.47           |2.47       |\n",
      "|7    |Bronx     |21.09           |2.56       |\n",
      "|8    |Bronx     |21.02           |2.76       |\n",
      "|9    |Bronx     |20.94           |2.85       |\n",
      "|10   |Bronx     |21.43           |2.8        |\n",
      "|11   |Bronx     |21.25           |2.68       |\n",
      "|12   |Bronx     |21.32           |2.5        |\n",
      "|1    |Brooklyn  |17.09           |8.39       |\n",
      "|2    |Brooklyn  |17.74           |8.27       |\n",
      "|3    |Brooklyn  |17.94           |8.18       |\n",
      "|4    |Brooklyn  |18.15           |8.38       |\n",
      "|5    |Brooklyn  |18.54           |8.37       |\n",
      "|6    |Brooklyn  |18.77           |8.25       |\n",
      "|7    |Brooklyn  |18.8            |8.0        |\n",
      "|8    |Brooklyn  |18.34           |8.2        |\n",
      "|9    |Brooklyn  |18.53           |8.23       |\n",
      "|10   |Brooklyn  |18.54           |8.42       |\n",
      "|11   |Brooklyn  |18.4            |8.3        |\n",
      "|12   |Brooklyn  |19.18           |8.14       |\n",
      "|1    |EWR       |90.49           |10.73      |\n",
      "|2    |EWR       |90.61           |10.34      |\n",
      "|3    |EWR       |91.01           |10.76      |\n",
      "|4    |EWR       |90.74           |10.36      |\n",
      "|5    |EWR       |90.31           |10.79      |\n",
      "|6    |EWR       |92.79           |10.99      |\n",
      "|7    |EWR       |91.89           |10.05      |\n",
      "|8    |EWR       |91.8            |10.43      |\n",
      "|9    |EWR       |92.45           |10.43      |\n",
      "|10   |EWR       |93.84           |10.85      |\n",
      "|11   |EWR       |93.69           |11.14      |\n",
      "|12   |EWR       |95.31           |10.62      |\n",
      "|1    |Manhattan |15.19           |10.58      |\n",
      "|2    |Manhattan |16.06           |10.77      |\n",
      "|3    |Manhattan |16.11           |10.57      |\n",
      "|4    |Manhattan |16.24           |10.49      |\n",
      "|5    |Manhattan |16.41           |10.37      |\n",
      "|6    |Manhattan |16.42           |10.39      |\n",
      "|7    |Manhattan |16.32           |10.23      |\n",
      "|8    |Manhattan |15.84           |10.26      |\n",
      "|9    |Manhattan |16.69           |10.41      |\n",
      "|10   |Manhattan |16.69           |10.58      |\n",
      "|11   |Manhattan |16.56           |10.63      |\n",
      "|12   |Manhattan |17.3            |16.35      |\n",
      "|1    |N/A       |60.36           |6.13       |\n",
      "|2    |N/A       |57.63           |5.19       |\n",
      "+-----+----------+----------------+-----------+\n",
      "only showing top 50 rows\n",
      "\n"
     ]
    }
   ],
   "source": [
    "evolucion_b_t = (\n",
    "    df.groupBy(\"MONTH\", \"PU_BOROUGH\")\n",
    "      .agg(\n",
    "          F.round(F.avg(\"TOTAL_AMOUNT\"), 2).alias(\"avg_total_amount\"),\n",
    "          F.round(F.avg(\"TIP_PCT\"), 2).alias(\"avg_tip_pct\")\n",
    "      )\n",
    "      .orderBy(\"PU_BOROUGH\", \"MONTH\")\n",
    ")\n",
    "evolucion_b_t.show(50, False)"
   ]
  },
  {
   "cell_type": "markdown",
   "id": "482853f4",
   "metadata": {},
   "source": [
    "d. Ticket promedio por service_type y mes"
   ]
  },
  {
   "cell_type": "code",
   "execution_count": 7,
   "id": "78d2680d-0f17-4e60-87b0-ad7211f26e69",
   "metadata": {},
   "outputs": [
    {
     "name": "stdout",
     "output_type": "stream",
     "text": [
      "+-----+------------+----------------+\n",
      "|MONTH|SERVICE_TYPE|avg_total_amount|\n",
      "+-----+------------+----------------+\n",
      "|    1|      yellow|           17.43|\n",
      "|    1|       green|           15.25|\n",
      "|    2|       green|           15.29|\n",
      "|    2|      yellow|           18.25|\n",
      "|    3|      yellow|           18.45|\n",
      "|    3|       green|           15.32|\n",
      "|    4|      yellow|           18.65|\n",
      "|    4|       green|           15.56|\n",
      "|    5|      yellow|           18.88|\n",
      "|    5|       green|           15.93|\n",
      "|    6|      yellow|           18.94|\n",
      "|    6|       green|            15.9|\n",
      "|    7|      yellow|           19.01|\n",
      "|    7|       green|           15.86|\n",
      "|    8|       green|           15.97|\n",
      "|    8|      yellow|           18.52|\n",
      "|    9|      yellow|           19.37|\n",
      "|    9|       green|           16.29|\n",
      "|   10|      yellow|           19.27|\n",
      "|   10|       green|           16.12|\n",
      "+-----+------------+----------------+\n",
      "only showing top 20 rows\n",
      "\n"
     ]
    }
   ],
   "source": [
    "ticket_service = (\n",
    "    df.groupBy(\"MONTH\", \"SERVICE_TYPE\")\n",
    "      .agg(F.round(F.avg(\"TOTAL_AMOUNT\"), 2).alias(\"avg_total_amount\"))\n",
    "      .orderBy(\"MONTH\")\n",
    ")\n",
    "ticket_service.show()"
   ]
  },
  {
   "cell_type": "markdown",
   "id": "a2fe34be",
   "metadata": {},
   "source": [
    "En general el avg total_amount de yellow service es mayor al de green por mes. Esto tiene sentido pues la cantidad de viajes por servicio es significativamente mayor para yellow"
   ]
  },
  {
   "cell_type": "markdown",
   "id": "c0007cbb",
   "metadata": {},
   "source": [
    "e. Viajes por hora del día y día de semana (picos)"
   ]
  },
  {
   "cell_type": "code",
   "execution_count": 8,
   "id": "26d021bb-1ee8-46f3-947e-ff8fb0f3198a",
   "metadata": {},
   "outputs": [
    {
     "name": "stdout",
     "output_type": "stream",
     "text": [
      "+-----------+-----------+---------+\n",
      "|PICKUP_HOUR|DAY_OF_WEEK|num_trips|\n",
      "+-----------+-----------+---------+\n",
      "|          0|          0|  1758576|\n",
      "|          1|          0|  1077082|\n",
      "|          2|          0|  1236917|\n",
      "|          3|          0|  1804737|\n",
      "|          4|          0|  2660212|\n",
      "|          5|          0|  3805086|\n",
      "|          6|          0|  4813043|\n",
      "|          7|          0|  5473112|\n",
      "|          8|          0|  5832409|\n",
      "|          9|          0|  5891671|\n",
      "|         10|          0|  5957488|\n",
      "|         11|          0|  5800303|\n",
      "|         12|          0|  5774197|\n",
      "|         13|          0|  5910879|\n",
      "|         14|          0|  5742830|\n",
      "|         15|          0|  5220284|\n",
      "|         16|          0|  4783419|\n",
      "|         17|          0|  4496293|\n",
      "|         18|          0|  3824576|\n",
      "|         19|          0|  2936485|\n",
      "|         20|          0|  1901274|\n",
      "|         21|          0|  1156584|\n",
      "|         22|          0|   763146|\n",
      "|         23|          0|   616612|\n",
      "|          0|          1|   798947|\n",
      "|          1|          1|  1555867|\n",
      "|          2|          1|  3205039|\n",
      "|          3|          1|  4745443|\n",
      "|          4|          1|  5402893|\n",
      "|          5|          1|  5212718|\n",
      "|          6|          1|  4989479|\n",
      "|          7|          1|  5121371|\n",
      "|          8|          1|  5333259|\n",
      "|          9|          1|  5538110|\n",
      "|         10|          1|  5916715|\n",
      "|         11|          1|  5866999|\n",
      "|         12|          1|  5933439|\n",
      "|         13|          1|  6658883|\n",
      "|         14|          1|  6894561|\n",
      "|         15|          1|  6296504|\n",
      "|         16|          1|  5807484|\n",
      "|         17|          1|  5368391|\n",
      "|         18|          1|  4366895|\n",
      "|         19|          1|  3077991|\n",
      "|         20|          1|  1898142|\n",
      "|         21|          1|  1082029|\n",
      "|         22|          1|   668898|\n",
      "|         23|          1|   517580|\n",
      "|          0|          2|   704674|\n",
      "|          1|          2|  1585165|\n",
      "|          2|          2|  3516395|\n",
      "|          3|          2|  5363061|\n",
      "|          4|          2|  6074755|\n",
      "|          5|          2|  5781293|\n",
      "|          6|          2|  5498840|\n",
      "|          7|          2|  5580024|\n",
      "|          8|          2|  5771586|\n",
      "|          9|          2|  5957798|\n",
      "|         10|          2|  6296993|\n",
      "|         11|          2|  6121950|\n",
      "|         12|          2|  6148151|\n",
      "|         13|          2|  7094489|\n",
      "|         14|          2|  7577257|\n",
      "|         15|          2|  7131311|\n",
      "|         16|          2|  6816557|\n",
      "|         17|          2|  6531697|\n",
      "|         18|          2|  5459931|\n",
      "|         19|          2|  3840554|\n",
      "|         20|          2|  2326575|\n",
      "|         21|          2|  1339812|\n",
      "|         22|          2|   826458|\n",
      "|         23|          2|   620176|\n",
      "|          0|          3|   763730|\n",
      "|          1|          3|  1613023|\n",
      "|          2|          3|  3579942|\n",
      "|          3|          3|  5486537|\n",
      "|          4|          3|  6197042|\n",
      "|          5|          3|  5894396|\n",
      "|          6|          3|  5641094|\n",
      "|          7|          3|  5797611|\n",
      "|          8|          3|  5993207|\n",
      "|          9|          3|  6149228|\n",
      "|         10|          3|  6382101|\n",
      "|         11|          3|  6164253|\n",
      "|         12|          3|  6190796|\n",
      "|         13|          3|  7184085|\n",
      "|         14|          3|  7732146|\n",
      "|         15|          3|  7440183|\n",
      "|         16|          3|  7137758|\n",
      "|         17|          3|  6965342|\n",
      "|         18|          3|  5993186|\n",
      "|         19|          3|  4422863|\n",
      "|         20|          3|  2773755|\n",
      "|         21|          3|  1633489|\n",
      "|         22|          3|  1017558|\n",
      "|         23|          3|   742322|\n",
      "|          0|          4|   838469|\n",
      "|          1|          4|  1650344|\n",
      "|          2|          4|  3614618|\n",
      "|          3|          4|  5494401|\n",
      "|          4|          4|  6202432|\n",
      "|          5|          4|  5909622|\n",
      "|          6|          4|  5679041|\n",
      "|          7|          4|  5827559|\n",
      "|          8|          4|  6030947|\n",
      "|          9|          4|  6208846|\n",
      "|         10|          4|  6520402|\n",
      "|         11|          4|  6271949|\n",
      "|         12|          4|  6247739|\n",
      "|         13|          4|  7252150|\n",
      "|         14|          4|  7850261|\n",
      "|         15|          4|  7608126|\n",
      "|         16|          4|  7368444|\n",
      "|         17|          4|  7249564|\n",
      "|         18|          4|  6546296|\n",
      "|         19|          4|  5308333|\n",
      "|         20|          4|  3718897|\n",
      "|         21|          4|  2375223|\n",
      "|         22|          4|  1532725|\n",
      "|         23|          4|  1079183|\n",
      "|          0|          5|  1033060|\n",
      "|          1|          5|  1665107|\n",
      "|          2|          5|  3397723|\n",
      "|          3|          5|  5041734|\n",
      "|          4|          5|  5750357|\n",
      "|          5|          5|  5594106|\n",
      "|          6|          5|  5469075|\n",
      "|          7|          5|  5647262|\n",
      "|          8|          5|  5850719|\n",
      "|          9|          5|  6034212|\n",
      "|         10|          5|  6408503|\n",
      "|         11|          5|  6194226|\n",
      "|         12|          5|  6251261|\n",
      "|         13|          5|  7226885|\n",
      "|         14|          5|  7865247|\n",
      "|         15|          5|  7513369|\n",
      "|         16|          5|  6820934|\n",
      "|         17|          5|  6820692|\n",
      "|         18|          5|  6895520|\n",
      "|         19|          5|  6511211|\n",
      "|         20|          5|  5679264|\n",
      "|         21|          5|  4670827|\n",
      "|         22|          5|  3639490|\n",
      "|         23|          5|  2579918|\n",
      "|          0|          6|  1593478|\n",
      "|          1|          6|  1084078|\n",
      "|          2|          6|  1503077|\n",
      "|          3|          6|  2258462|\n",
      "|          4|          6|  3326704|\n",
      "|          5|          6|  4422158|\n",
      "|          6|          6|  5217968|\n",
      "|          7|          6|  5815810|\n",
      "|          8|          6|  6213051|\n",
      "|          9|          6|  6282233|\n",
      "|         10|          6|  6299447|\n",
      "|         11|          6|  6290970|\n",
      "|         12|          6|  6305009|\n",
      "|         13|          6|  6872065|\n",
      "|         14|          6|  7253370|\n",
      "|         15|          6|  6906971|\n",
      "|         16|          6|  6257409|\n",
      "|         17|          6|  6404076|\n",
      "|         18|          6|  6742076|\n",
      "|         19|          6|  6612898|\n",
      "|         20|          6|  5930976|\n",
      "|         21|          6|  5013572|\n",
      "|         22|          6|  4033970|\n",
      "|         23|          6|  2898240|\n",
      "+-----------+-----------+---------+\n",
      "\n"
     ]
    }
   ],
   "source": [
    "trips_per_hour_day = (\n",
    "    df.groupBy(\"PICKUP_HOUR\", \"DAY_OF_WEEK\")\n",
    "      .agg(F.count(\"*\").alias(\"num_trips\"))\n",
    "      .orderBy(\"DAY_OF_WEEK\", \"PICKUP_HOUR\")\n",
    ")\n",
    "trips_per_hour_day.show(200)"
   ]
  },
  {
   "cell_type": "markdown",
   "id": "e39465a9",
   "metadata": {},
   "source": [
    "f. p50/p90 de trip_duration_min por borough de pickup"
   ]
  },
  {
   "cell_type": "code",
   "execution_count": 6,
   "id": "ad97395c-b9dc-41ea-95fe-c09e59f07585",
   "metadata": {},
   "outputs": [
    {
     "name": "stdout",
     "output_type": "stream",
     "text": [
      "+-------------+------------+------------+\n",
      "|   PU_BOROUGH|p50_duration|p90_duration|\n",
      "+-------------+------------+------------+\n",
      "|       Queens|        24.0|        54.0|\n",
      "|          EWR|         0.0|         2.0|\n",
      "|      Unknown|        10.0|        28.0|\n",
      "|     Brooklyn|        13.0|        33.0|\n",
      "|Staten Island|        22.0|        70.0|\n",
      "|          N/A|         1.0|        60.0|\n",
      "|    Manhattan|        11.0|        25.0|\n",
      "|        Bronx|        13.0|        37.0|\n",
      "+-------------+------------+------------+\n",
      "\n"
     ]
    }
   ],
   "source": [
    "duration_p = (\n",
    "    df.groupBy(\"PU_BOROUGH\")\n",
    "      .agg(\n",
    "          F.percentile_approx(\"TRIP_DURATION_MIN\", 0.5).alias(\"p50_duration\"),\n",
    "          F.percentile_approx(\"TRIP_DURATION_MIN\", 0.9).alias(\"p90_duration\")\n",
    "      )\n",
    ")\n",
    "duration_p.show()"
   ]
  },
  {
   "cell_type": "markdown",
   "id": "33fb0046",
   "metadata": {},
   "source": [
    "Queens y Staten Island mejoran respectivamente tanto en p50 como en p90"
   ]
  },
  {
   "cell_type": "markdown",
   "id": "e589c3a0",
   "metadata": {},
   "source": [
    "g. avg_speed_mph por franja horaria (6-9, 17-20) y borough"
   ]
  },
  {
   "cell_type": "code",
   "execution_count": 7,
   "id": "531512ee-44f6-4920-a2f1-fd902d35ea36",
   "metadata": {},
   "outputs": [
    {
     "name": "stdout",
     "output_type": "stream",
     "text": [
      "+-------------+---------+-------------+\n",
      "|PU_BOROUGH   |time_slot|avg_speed_mph|\n",
      "+-------------+---------+-------------+\n",
      "|Bronx        |evening  |16.43        |\n",
      "|Bronx        |morning  |13.74        |\n",
      "|Bronx        |other    |13.96        |\n",
      "|Brooklyn     |evening  |13.8         |\n",
      "|Brooklyn     |morning  |11.66        |\n",
      "|Brooklyn     |other    |12.61        |\n",
      "|EWR          |evening  |26.14        |\n",
      "|EWR          |morning  |21.01        |\n",
      "|EWR          |other    |17.95        |\n",
      "|Manhattan    |evening  |12.51        |\n",
      "|Manhattan    |morning  |9.58         |\n",
      "|Manhattan    |other    |10.87        |\n",
      "|N/A          |evening  |17.65        |\n",
      "|N/A          |morning  |13.72        |\n",
      "|N/A          |other    |14.54        |\n",
      "|Queens       |evening  |23.59        |\n",
      "|Queens       |morning  |18.17        |\n",
      "|Queens       |other    |18.35        |\n",
      "|Staten Island|evening  |23.05        |\n",
      "|Staten Island|morning  |20.73        |\n",
      "|Staten Island|other    |20.95        |\n",
      "|Unknown      |evening  |13.87        |\n",
      "|Unknown      |morning  |10.32        |\n",
      "|Unknown      |other    |11.62        |\n",
      "+-------------+---------+-------------+\n",
      "\n"
     ]
    }
   ],
   "source": [
    "df_speed = df.withColumn(\"time_slot\", \n",
    "    F.when((F.col(\"PICKUP_HOUR\").between(6,9)), \"morning\")\n",
    "   .when((F.col(\"PICKUP_HOUR\").between(17,20)), \"evening\")\n",
    "   .otherwise(\"other\")\n",
    ")\n",
    "\n",
    "# speed con valores atipicos eliminados\n",
    "df_speed = df_speed.filter((F.col(\"AVG_SPEED_MPH\") >= 1) & (F.col(\"AVG_SPEED_MPH\") <= 50))\n",
    "\n",
    "avg_speed_slot = (\n",
    "    df_speed.groupBy(\"PU_BOROUGH\", \"time_slot\")\n",
    "            .agg(F.round(F.avg(\"AVG_SPEED_MPH\"),2).alias(\"avg_speed_mph\"))\n",
    "            .orderBy(\"PU_BOROUGH\", \"time_slot\")\n",
    ")\n",
    "avg_speed_slot.show(40, False)"
   ]
  },
  {
   "cell_type": "markdown",
   "id": "2824f06a",
   "metadata": {},
   "source": [
    "Evening lleva el mayor avg_speed_mph en todas las zonas."
   ]
  },
  {
   "cell_type": "markdown",
   "id": "94d145af",
   "metadata": {},
   "source": [
    "h. Participación por payment_type_desc y su relación con tip_pct"
   ]
  },
  {
   "cell_type": "code",
   "execution_count": 8,
   "id": "d40b0b4d-f2e0-4388-af90-62e722048a17",
   "metadata": {},
   "outputs": [
    {
     "name": "stdout",
     "output_type": "stream",
     "text": [
      "+-----------------+---------+-----------+\n",
      "|PAYMENT_TYPE_DESC|num_trips|avg_tip_pct|\n",
      "+-----------------+---------+-----------+\n",
      "|      Credit card|534452087|      15.05|\n",
      "|             Cash|241753107|        0.0|\n",
      "|  Flex Fare trip | 15508659|       17.3|\n",
      "|        No charge|  3880607|       0.02|\n",
      "|          Dispute|  3334326|       0.03|\n",
      "|    Not specified|  1908450|       3.12|\n",
      "|          Unknown|     3106|        0.1|\n",
      "+-----------------+---------+-----------+\n",
      "\n"
     ]
    }
   ],
   "source": [
    "payment_tip = (\n",
    "    df.groupBy(\"PAYMENT_TYPE_DESC\")\n",
    "      .agg(\n",
    "          F.count(\"*\").alias(\"num_trips\"),\n",
    "          F.round(F.avg(\"TIP_PCT\"),2).alias(\"avg_tip_pct\")\n",
    "      )\n",
    "      .orderBy(F.col(\"num_trips\").desc())\n",
    ")\n",
    "payment_tip.show()"
   ]
  },
  {
   "cell_type": "markdown",
   "id": "ed135e33",
   "metadata": {},
   "source": [
    "i. ¿Qué rate_code_desc concentran mayor trip_distance y total_amount?"
   ]
  },
  {
   "cell_type": "code",
   "execution_count": 9,
   "id": "49c44d0d-16d4-4d3c-956d-879b5e42327a",
   "metadata": {},
   "outputs": [
    {
     "name": "stdout",
     "output_type": "stream",
     "text": [
      "+--------------------+---------------+-----------------+---------+\n",
      "|      RATE_CODE_DESC| total_distance|     total_amount|num_trips|\n",
      "+--------------------+---------------+-----------------+---------+\n",
      "|       Standard rate|3.40412228243E9|1.251075209098E10|756492156|\n",
      "|             Unknown|  7.207172095E8|   5.1152051399E8| 18581448|\n",
      "|                 JFK| 4.0683391549E8|  1.29601171011E9| 18437653|\n",
      "|     Negotiated fare|  4.975935107E7|   2.7371541419E8|  5027895|\n",
      "|              Newark|  2.654675993E7|   1.4921865334E8|  1627200|\n",
      "|Nassau or Westche...|  1.994124055E7|    6.423583583E7|   667065|\n",
      "|          Group ride|        8673.43|        173101.49|     6925|\n",
      "+--------------------+---------------+-----------------+---------+\n",
      "\n"
     ]
    }
   ],
   "source": [
    "rate_codes = (\n",
    "    df.groupBy(\"RATE_CODE_DESC\")\n",
    "      .agg(\n",
    "          F.round(F.sum(\"TRIP_DISTANCE\"),2).alias(\"total_distance\"),\n",
    "          F.round(F.sum(\"TOTAL_AMOUNT\"),2).alias(\"total_amount\"),\n",
    "          F.count(\"*\").alias(\"num_trips\")\n",
    "      )\n",
    "      .orderBy(F.col(\"total_distance\").desc())\n",
    ")\n",
    "rate_codes.show(10)"
   ]
  },
  {
   "cell_type": "markdown",
   "id": "1e173ca2",
   "metadata": {},
   "source": [
    "j. Mix yellow vs green por mes y borough."
   ]
  },
  {
   "cell_type": "code",
   "execution_count": 10,
   "id": "af5ce20a-e3ed-42a0-986b-2334ff2ca6fe",
   "metadata": {},
   "outputs": [
    {
     "name": "stdout",
     "output_type": "stream",
     "text": [
      "+-----+-------------+------------+---------+\n",
      "|MONTH|   PU_BOROUGH|SERVICE_TYPE|num_trips|\n",
      "+-----+-------------+------------+---------+\n",
      "|    1|        Bronx|      yellow|   107823|\n",
      "|    1|        Bronx|       green|   431537|\n",
      "|    1|     Brooklyn|      yellow|   929683|\n",
      "|    1|     Brooklyn|       green|  2713943|\n",
      "|    1|          EWR|      yellow|     5235|\n",
      "|    1|          EWR|       green|      142|\n",
      "|    1|    Manhattan|      yellow| 62684583|\n",
      "|    1|    Manhattan|       green|  2373824|\n",
      "|    1|          N/A|      yellow|    52061|\n",
      "|    1|          N/A|       green|     3966|\n",
      "|    1|       Queens|      yellow|  4336075|\n",
      "|    1|       Queens|       green|  2115805|\n",
      "|    1|Staten Island|      yellow|     2825|\n",
      "|    1|Staten Island|       green|     1658|\n",
      "|    1|      Unknown|      yellow|  1020150|\n",
      "|    1|      Unknown|       green|    12092|\n",
      "|    2|        Bronx|      yellow|   104596|\n",
      "|    2|        Bronx|       green|   377194|\n",
      "|    2|     Brooklyn|      yellow|   844902|\n",
      "|    2|     Brooklyn|       green|  2130266|\n",
      "+-----+-------------+------------+---------+\n",
      "only showing top 20 rows\n",
      "\n"
     ]
    }
   ],
   "source": [
    "mix_service = (\n",
    "    df.groupBy(\"MONTH\", \"PU_BOROUGH\", \"SERVICE_TYPE\")\n",
    "      .agg(F.count(\"*\").alias(\"num_trips\"))\n",
    "      .orderBy(\"MONTH\", \"PU_BOROUGH\")\n",
    ")\n",
    "mix_service.show()"
   ]
  },
  {
   "cell_type": "markdown",
   "id": "465633c4",
   "metadata": {},
   "source": [
    "k. Top 20 flujos PU→DO por volumen y su ticket promedio."
   ]
  },
  {
   "cell_type": "code",
   "execution_count": 11,
   "id": "d8ca9e31-3e4c-4502-bf67-7b0864c5e202",
   "metadata": {},
   "outputs": [
    {
     "name": "stdout",
     "output_type": "stream",
     "text": [
      "+--------------------+--------------------+---------+----------+\n",
      "|             PU_ZONE|             DO_ZONE|num_trips|avg_ticket|\n",
      "+--------------------+--------------------+---------+----------+\n",
      "|                 N/A|                 N/A|  7078062|     17.83|\n",
      "|Upper East Side S...|Upper East Side N...|  4145943|     10.34|\n",
      "|Upper East Side N...|Upper East Side S...|  3549991|     11.25|\n",
      "|Upper East Side N...|Upper East Side N...|  3298781|      8.57|\n",
      "|Upper East Side S...|Upper East Side S...|  3157821|      9.11|\n",
      "|Upper West Side S...|Upper West Side N...|  1856057|      8.92|\n",
      "|Upper West Side S...| Lincoln Square East|  1839525|      9.45|\n",
      "|Upper East Side S...|      Midtown Center|  1789514|     12.14|\n",
      "|Upper East Side S...|        Midtown East|  1783699|     10.73|\n",
      "| Lincoln Square East|Upper West Side S...|  1753764|      9.92|\n",
      "|      Midtown Center|Upper East Side S...|  1709279|     11.77|\n",
      "|Upper West Side N...|Upper West Side S...|  1606176|      8.89|\n",
      "|     Lenox Hill West|Upper East Side N...|  1579303|     10.13|\n",
      "|Penn Station/Madi...|      Midtown Center|  1535844|     13.13|\n",
      "|Penn Station/Madi...|Times Sq/Theatre ...|  1534795|     12.48|\n",
      "|Upper East Side S...|     Lenox Hill West|  1419125|      9.28|\n",
      "|        Clinton East|        Clinton East|  1411044|     10.05|\n",
      "|Times Sq/Theatre ...|Penn Station/Madi...|  1409892|     10.83|\n",
      "|            Gramercy|         Murray Hill|  1404683|     10.34|\n",
      "|     Lenox Hill West|Upper East Side S...|  1369252|      9.22|\n",
      "+--------------------+--------------------+---------+----------+\n",
      "only showing top 20 rows\n",
      "\n"
     ]
    }
   ],
   "source": [
    "flows = (\n",
    "    df.groupBy(\"PU_ZONE\", \"DO_ZONE\")\n",
    "      .agg(F.count(\"*\").alias(\"num_trips\"),\n",
    "           F.round(F.avg(\"TOTAL_AMOUNT\"),2).alias(\"avg_ticket\"))\n",
    "      .orderBy(F.col(\"num_trips\").desc())\n",
    ")\n",
    "flows.show(20)"
   ]
  },
  {
   "cell_type": "markdown",
   "id": "1c8e23c5",
   "metadata": {},
   "source": [
    "l. Distribución de passenger_count y efecto en total_amount."
   ]
  },
  {
   "cell_type": "code",
   "execution_count": 12,
   "id": "67d5d72e-69db-4d55-93b4-02c355a4b096",
   "metadata": {},
   "outputs": [
    {
     "name": "stdout",
     "output_type": "stream",
     "text": [
      "+---------------+---------+----------------+\n",
      "|PASSENGER_COUNT|num_trips|avg_total_amount|\n",
      "+---------------+---------+----------------+\n",
      "|              1|570072032|           18.15|\n",
      "|              2|109384461|           19.63|\n",
      "|              3| 30344967|           19.02|\n",
      "|              4| 14645485|           20.12|\n",
      "|              5| 31545128|           17.07|\n",
      "|              6| 19372282|           16.89|\n",
      "+---------------+---------+----------------+\n",
      "\n"
     ]
    }
   ],
   "source": [
    "# passenger count debe ser mayor a 0 y menor a 6 y total amount mayor a 0 y menor a 500\n",
    "\n",
    "df = df.filter((F.col(\"PASSENGER_COUNT\") > 0) & (F.col(\"PASSENGER_COUNT\") < 7) &\n",
    "                (F.col(\"TOTAL_AMOUNT\") > 0) & (F.col(\"TOTAL_AMOUNT\") < 500))\n",
    "\n",
    "\n",
    "passenger_effect = (\n",
    "    df.groupBy(\"PASSENGER_COUNT\")\n",
    "      .agg(\n",
    "          F.count(\"*\").alias(\"num_trips\"),\n",
    "          F.round(F.avg(\"TOTAL_AMOUNT\"),2).alias(\"avg_total_amount\")\n",
    "      )\n",
    "      .orderBy(\"PASSENGER_COUNT\")\n",
    ")\n",
    "passenger_effect.show()"
   ]
  },
  {
   "cell_type": "markdown",
   "id": "e88a0729",
   "metadata": {},
   "source": [
    "m. Impacto de tolls_amount y congestion_surcharge por zona."
   ]
  },
  {
   "cell_type": "code",
   "execution_count": 13,
   "id": "aad093bf-c05e-4cdb-a17c-4fd28b73773b",
   "metadata": {},
   "outputs": [
    {
     "name": "stdout",
     "output_type": "stream",
     "text": [
      "+--------------------+---------+--------------+----------------+\n",
      "|             PU_ZONE|avg_tolls|avg_congestion|avg_total_amount|\n",
      "+--------------------+---------+--------------+----------------+\n",
      "|West Chelsea/Huds...|     0.16|          2.95|           16.91|\n",
      "|      Yorkville East|     0.19|          2.95|           15.66|\n",
      "|        East Village|     0.08|          2.95|           15.89|\n",
      "|Upper East Side S...|     0.07|          2.95|           14.14|\n",
      "| Lincoln Square East|     0.11|          2.95|           15.41|\n",
      "|        West Village|     0.09|          2.95|           15.91|\n",
      "|Sutton Place/Turt...|     0.11|          2.95|            15.1|\n",
      "| Little Italy/NoLiTa|     0.05|          2.95|           16.77|\n",
      "|Upper West Side S...|     0.13|          2.95|           15.07|\n",
      "|Greenwich Village...|     0.06|          2.95|           16.16|\n",
      "|        Battery Park|      0.2|          2.95|            22.9|\n",
      "|     Lenox Hill West|     0.09|          2.95|           14.36|\n",
      "|                SoHo|     0.08|          2.95|           16.77|\n",
      "|        East Chelsea|      0.2|          2.94|            16.8|\n",
      "|            Gramercy|     0.16|          2.94|           15.34|\n",
      "|       Midtown North|     0.23|          2.94|           17.07|\n",
      "|       Midtown South|     0.32|          2.94|           16.61|\n",
      "|Upper East Side N...|      0.1|          2.94|           14.58|\n",
      "|      Midtown Center|     0.28|          2.94|           17.28|\n",
      "|        Midtown East|     0.26|          2.94|           16.85|\n",
      "+--------------------+---------+--------------+----------------+\n",
      "only showing top 20 rows\n",
      "\n"
     ]
    }
   ],
   "source": [
    "fees_effect = (\n",
    "    df.groupBy(\"PU_ZONE\")\n",
    "      .agg(\n",
    "          F.round(F.avg(\"TOLLS_AMOUNT\"),2).alias(\"avg_tolls\"),\n",
    "          F.round(F.avg(\"CONGESTION_SURCHARGE\"),2).alias(\"avg_congestion\"),\n",
    "          F.round(F.avg(\"TOTAL_AMOUNT\"),2).alias(\"avg_total_amount\")\n",
    "      )\n",
    "      .orderBy(F.col(\"avg_congestion\").desc())\n",
    ")\n",
    "fees_effect.show()"
   ]
  },
  {
   "cell_type": "markdown",
   "id": "8365c203",
   "metadata": {},
   "source": [
    "n. Proporción de viajes cortos vs largos por borough y estacionalidad."
   ]
  },
  {
   "cell_type": "code",
   "execution_count": 14,
   "id": "6557fcb8-a783-4005-bd8c-16b792679a50",
   "metadata": {},
   "outputs": [
    {
     "name": "stdout",
     "output_type": "stream",
     "text": [
      "+----------+-----+---------+---------+\n",
      "|PU_BOROUGH|MONTH|trip_type|num_trips|\n",
      "+----------+-----+---------+---------+\n",
      "|     Bronx|    1|    other|    28564|\n",
      "|     Bronx|    1|     long|    91523|\n",
      "|     Bronx|    1|    short|   333612|\n",
      "|     Bronx|    2|    short|   296278|\n",
      "|     Bronx|    2|     long|    84610|\n",
      "|     Bronx|    2|    other|    22308|\n",
      "|     Bronx|    3|    other|    24301|\n",
      "|     Bronx|    3|     long|   101109|\n",
      "|     Bronx|    3|    short|   344355|\n",
      "|     Bronx|    4|    other|    22063|\n",
      "|     Bronx|    4|    short|   291392|\n",
      "|     Bronx|    4|     long|    90534|\n",
      "|     Bronx|    5|     long|    95238|\n",
      "|     Bronx|    5|    other|    24048|\n",
      "|     Bronx|    5|    short|   298300|\n",
      "|     Bronx|    6|    short|   272747|\n",
      "|     Bronx|    6|     long|    89791|\n",
      "|     Bronx|    6|    other|    23045|\n",
      "|     Bronx|    7|     long|    84109|\n",
      "|     Bronx|    7|    short|   237801|\n",
      "|     Bronx|    7|    other|    23610|\n",
      "|     Bronx|    8|    other|    23041|\n",
      "|     Bronx|    8|    short|   221369|\n",
      "|     Bronx|    8|     long|    75600|\n",
      "|     Bronx|    9|    short|   206619|\n",
      "|     Bronx|    9|    other|    18817|\n",
      "|     Bronx|    9|     long|    69103|\n",
      "|     Bronx|   10|    other|    18628|\n",
      "|     Bronx|   10|     long|    72227|\n",
      "|     Bronx|   10|    short|   208324|\n",
      "|     Bronx|   11|     long|    65525|\n",
      "|     Bronx|   11|    other|    16571|\n",
      "|     Bronx|   11|    short|   191879|\n",
      "|     Bronx|   12|    other|    17189|\n",
      "|     Bronx|   12|    short|   209736|\n",
      "|     Bronx|   12|     long|    70754|\n",
      "|  Brooklyn|    1|    short|  2778336|\n",
      "|  Brooklyn|    1|    other|    58458|\n",
      "|  Brooklyn|    1|     long|   613993|\n",
      "|  Brooklyn|    2|    other|    45417|\n",
      "|  Brooklyn|    2|    short|  2215770|\n",
      "|  Brooklyn|    2|     long|   506352|\n",
      "|  Brooklyn|    3|     long|   597456|\n",
      "|  Brooklyn|    3|    other|    50065|\n",
      "|  Brooklyn|    3|    short|  2515961|\n",
      "|  Brooklyn|    4|    other|    47607|\n",
      "|  Brooklyn|    4|     long|   576738|\n",
      "|  Brooklyn|    4|    short|  2381518|\n",
      "|  Brooklyn|    5|    short|  2591296|\n",
      "|  Brooklyn|    5|    other|    52839|\n",
      "|  Brooklyn|    5|     long|   658198|\n",
      "|  Brooklyn|    6|     long|   594750|\n",
      "|  Brooklyn|    6|    other|    52120|\n",
      "|  Brooklyn|    6|    short|  2359107|\n",
      "|  Brooklyn|    7|     long|   510528|\n",
      "|  Brooklyn|    7|    other|    51243|\n",
      "|  Brooklyn|    7|    short|  1982715|\n",
      "|  Brooklyn|    8|     long|   474348|\n",
      "|  Brooklyn|    8|    short|  1867242|\n",
      "|  Brooklyn|    8|    other|    47838|\n",
      "|  Brooklyn|    9|     long|   440559|\n",
      "|  Brooklyn|    9|    other|    43185|\n",
      "|  Brooklyn|    9|    short|  1787874|\n",
      "|  Brooklyn|   10|    short|  1924621|\n",
      "|  Brooklyn|   10|    other|    41415|\n",
      "|  Brooklyn|   10|     long|   476760|\n",
      "|  Brooklyn|   11|     long|   414713|\n",
      "|  Brooklyn|   11|    other|    40119|\n",
      "|  Brooklyn|   11|    short|  1709485|\n",
      "|  Brooklyn|   12|    short|  1738064|\n",
      "|  Brooklyn|   12|     long|   416668|\n",
      "|  Brooklyn|   12|    other|    40778|\n",
      "|       EWR|    1|    short|     1010|\n",
      "|       EWR|    1|    other|     3644|\n",
      "|       EWR|    1|     long|      515|\n",
      "|       EWR|    2|    other|     2956|\n",
      "|       EWR|    2|    short|      914|\n",
      "|       EWR|    2|     long|      312|\n",
      "|       EWR|    3|    short|     1160|\n",
      "|       EWR|    3|    other|     3905|\n",
      "|       EWR|    3|     long|      521|\n",
      "|       EWR|    4|    short|     1121|\n",
      "|       EWR|    4|    other|     4151|\n",
      "|       EWR|    4|     long|      553|\n",
      "|       EWR|    5|     long|      693|\n",
      "|       EWR|    5|    other|     5206|\n",
      "|       EWR|    5|    short|     1567|\n",
      "|       EWR|    6|    other|     4866|\n",
      "|       EWR|    6|    short|     1432|\n",
      "|       EWR|    6|     long|      647|\n",
      "|       EWR|    7|    other|     4373|\n",
      "|       EWR|    7|     long|      573|\n",
      "|       EWR|    7|    short|     1090|\n",
      "|       EWR|    8|     long|      469|\n",
      "|       EWR|    8|    other|     3980|\n",
      "|       EWR|    8|    short|     1027|\n",
      "|       EWR|    9|    other|     3391|\n",
      "|       EWR|    9|     long|      401|\n",
      "|       EWR|    9|    short|     1005|\n",
      "|       EWR|   10|     long|      468|\n",
      "+----------+-----+---------+---------+\n",
      "only showing top 100 rows\n",
      "\n"
     ]
    }
   ],
   "source": [
    "df_length = df.withColumn(\n",
    "    \"trip_type\", \n",
    "    F.when((F.col(\"TRIP_DISTANCE\") > 0) & (F.col(\"TRIP_DISTANCE\") <= 5), \"short\")\n",
    "     .when(F.col(\"TRIP_DISTANCE\") > 5, \"long\")\n",
    "     .otherwise(\"other\") \n",
    ")\n",
    "trip_type_ratio = (\n",
    "    df_length.groupBy(\"PU_BOROUGH\", \"MONTH\", \"trip_type\")\n",
    "             .agg(F.count(\"*\").alias(\"num_trips\"))\n",
    "             .orderBy(\"PU_BOROUGH\", \"MONTH\")\n",
    ")\n",
    "trip_type_ratio.show(100)"
   ]
  },
  {
   "cell_type": "markdown",
   "id": "bcccdb71",
   "metadata": {},
   "source": [
    "o. Diferencias por vendor en avg_speed_mph y trip_duration_min."
   ]
  },
  {
   "cell_type": "code",
   "execution_count": 15,
   "id": "68d6df51-339f-4157-8f58-31c825c10bcf",
   "metadata": {},
   "outputs": [
    {
     "name": "stdout",
     "output_type": "stream",
     "text": [
      "+--------------------+---------+------------+\n",
      "|         VENDOR_NAME|avg_speed|avg_duration|\n",
      "+--------------------+---------+------------+\n",
      "|  Curb Mobility, LLC|    11.92|       21.32|\n",
      "|Creative Mobile T...|    37.15|       16.31|\n",
      "|       Not specified|    10.64|       14.17|\n",
      "|               Helix|     NULL|        0.00|\n",
      "+--------------------+---------+------------+\n",
      "\n"
     ]
    }
   ],
   "source": [
    "vendor_stats = (\n",
    "    df.groupBy(\"VENDOR_NAME\")\n",
    "      .agg(\n",
    "          F.round(F.avg(\"AVG_SPEED_MPH\"),2).alias(\"avg_speed\"),\n",
    "          F.round(F.avg(\"TRIP_DURATION_MIN\"),2).alias(\"avg_duration\")\n",
    "      )\n",
    ")\n",
    "vendor_stats.show()"
   ]
  },
  {
   "cell_type": "markdown",
   "id": "078a4b5e",
   "metadata": {},
   "source": [
    "p. Relación método de pago ↔ tip_amount por hora."
   ]
  },
  {
   "cell_type": "code",
   "execution_count": 16,
   "id": "d0b57332-e75d-4993-9324-368c33f3c9f3",
   "metadata": {},
   "outputs": [
    {
     "name": "stdout",
     "output_type": "stream",
     "text": [
      "+-----------------+-----------+-------+\n",
      "|PAYMENT_TYPE_DESC|PICKUP_HOUR|avg_tip|\n",
      "+-----------------+-----------+-------+\n",
      "|          Dispute|          0|   0.01|\n",
      "|      Credit card|          0|   3.49|\n",
      "|             Cash|          0|    0.0|\n",
      "|        No charge|          0|    0.0|\n",
      "|          Unknown|          0|    0.0|\n",
      "|      Credit card|          1|   3.35|\n",
      "|        No charge|          1|    0.0|\n",
      "|          Dispute|          1|   0.01|\n",
      "|             Cash|          1|    0.0|\n",
      "|          Unknown|          1|    0.0|\n",
      "|          Dispute|          2|   0.01|\n",
      "|        No charge|          2|    0.0|\n",
      "|          Unknown|          2|    0.0|\n",
      "|             Cash|          2|    0.0|\n",
      "|      Credit card|          2|   2.84|\n",
      "|        No charge|          3|   0.01|\n",
      "|             Cash|          3|    0.0|\n",
      "|      Credit card|          3|   2.71|\n",
      "|          Dispute|          3|   0.01|\n",
      "|          Unknown|          3|   0.03|\n",
      "|          Dispute|          4|   0.01|\n",
      "|      Credit card|          4|   2.74|\n",
      "|          Unknown|          4|    0.0|\n",
      "|             Cash|          4|    0.0|\n",
      "|        No charge|          4|   0.01|\n",
      "|             Cash|          5|    0.0|\n",
      "|          Dispute|          5|   0.01|\n",
      "|          Unknown|          5|   0.06|\n",
      "|      Credit card|          5|   2.84|\n",
      "|        No charge|          5|   0.01|\n",
      "|      Credit card|          6|   2.93|\n",
      "|          Unknown|          6|   0.16|\n",
      "|        No charge|          6|    0.0|\n",
      "|          Dispute|          6|   0.01|\n",
      "|             Cash|          6|    0.0|\n",
      "|      Credit card|          7|    3.0|\n",
      "|          Unknown|          7|   0.13|\n",
      "|             Cash|          7|    0.0|\n",
      "|          Dispute|          7|   0.01|\n",
      "|        No charge|          7|   0.01|\n",
      "|        No charge|          8|   0.01|\n",
      "|             Cash|          8|    0.0|\n",
      "|          Unknown|          8|    0.0|\n",
      "|      Credit card|          8|   3.06|\n",
      "|          Dispute|          8|   0.01|\n",
      "|      Credit card|          9|   3.16|\n",
      "|          Dispute|          9|   0.01|\n",
      "|             Cash|          9|    0.0|\n",
      "|          Unknown|          9|   0.03|\n",
      "|        No charge|          9|    0.0|\n",
      "|        No charge|         10|   0.01|\n",
      "|             Cash|         10|    0.0|\n",
      "|          Dispute|         10|   0.01|\n",
      "|      Credit card|         10|   3.23|\n",
      "|          Unknown|         10|    0.0|\n",
      "|             Cash|         11|    0.0|\n",
      "|      Credit card|         11|    3.3|\n",
      "|          Dispute|         11|   0.01|\n",
      "|        No charge|         11|   0.01|\n",
      "|          Unknown|         11|    0.0|\n",
      "|          Dispute|         12|   0.01|\n",
      "|      Credit card|         12|   3.33|\n",
      "|             Cash|         12|    0.0|\n",
      "|        No charge|         12|    0.0|\n",
      "|          Unknown|         12|   0.06|\n",
      "|             Cash|         13|    0.0|\n",
      "|        No charge|         13|    0.0|\n",
      "|          Dispute|         13|   0.01|\n",
      "|      Credit card|         13|   3.14|\n",
      "|          Unknown|         13|    0.0|\n",
      "|        No charge|         14|    0.0|\n",
      "|          Unknown|         14|   0.13|\n",
      "|             Cash|         14|    0.0|\n",
      "|          Dispute|         14|   0.01|\n",
      "|      Credit card|         14|   2.99|\n",
      "|          Dispute|         15|   0.01|\n",
      "|          Unknown|         15|    0.0|\n",
      "|      Credit card|         15|   2.94|\n",
      "|             Cash|         15|    0.0|\n",
      "|        No charge|         15|    0.0|\n",
      "|             Cash|         16|    0.0|\n",
      "|        No charge|         16|    0.0|\n",
      "|          Dispute|         16|   0.01|\n",
      "|          Unknown|         16|    0.0|\n",
      "|      Credit card|         16|   2.98|\n",
      "|        No charge|         17|    0.0|\n",
      "|      Credit card|         17|   3.05|\n",
      "|          Dispute|         17|   0.01|\n",
      "|             Cash|         17|    0.0|\n",
      "|          Unknown|         17|    0.0|\n",
      "|             Cash|         18|    0.0|\n",
      "|      Credit card|         18|    3.1|\n",
      "|        No charge|         18|    0.0|\n",
      "|          Dispute|         18|   0.01|\n",
      "|          Unknown|         18|    0.0|\n",
      "|      Credit card|         19|    3.1|\n",
      "|          Dispute|         19|   0.01|\n",
      "|             Cash|         19|    0.0|\n",
      "|        No charge|         19|    0.0|\n",
      "|          Unknown|         19|    0.0|\n",
      "|        No charge|         20|    0.0|\n",
      "|             Cash|         20|    0.0|\n",
      "|      Credit card|         20|   2.98|\n",
      "|          Dispute|         20|   0.01|\n",
      "|          Unknown|         20|    0.0|\n",
      "|        No charge|         21|   0.01|\n",
      "|      Credit card|         21|   2.79|\n",
      "|          Dispute|         21|   0.01|\n",
      "|             Cash|         21|    0.0|\n",
      "|          Unknown|         21|    0.0|\n",
      "|      Credit card|         22|   2.68|\n",
      "|          Unknown|         22|    0.0|\n",
      "|        No charge|         22|    0.0|\n",
      "|          Dispute|         22|   0.01|\n",
      "|             Cash|         22|    0.0|\n",
      "|        No charge|         23|    0.0|\n",
      "|      Credit card|         23|   2.86|\n",
      "|          Dispute|         23|   0.01|\n",
      "|             Cash|         23|    0.0|\n",
      "|          Unknown|         23|    0.0|\n",
      "+-----------------+-----------+-------+\n",
      "\n"
     ]
    }
   ],
   "source": [
    "tip_hour = (\n",
    "    df.groupBy(\"PAYMENT_TYPE_DESC\", \"PICKUP_HOUR\")\n",
    "      .agg(F.round(F.avg(\"TIP_AMOUNT\"),2).alias(\"avg_tip\"))\n",
    "      .orderBy(\"PICKUP_HOUR\")\n",
    ")\n",
    "tip_hour.show(7*24)"
   ]
  },
  {
   "cell_type": "markdown",
   "id": "68f394a0",
   "metadata": {},
   "source": [
    "q. Zonas con percentil 99 de duración/distancia fuera de rango (posible congestión/eventos)."
   ]
  },
  {
   "cell_type": "code",
   "execution_count": 17,
   "id": "38ce7f67-a08a-47a4-999a-c2a4c48b4a56",
   "metadata": {},
   "outputs": [
    {
     "name": "stdout",
     "output_type": "stream",
     "text": [
      "Percentil 99 de duración por milla: 125373065.00 min/milla\n",
      "+----------------------------+-----------------+\n",
      "|PU_ZONE                     |num_outlier_trips|\n",
      "+----------------------------+-----------------+\n",
      "|JFK Airport                 |58456            |\n",
      "|Times Sq/Theatre District   |42986            |\n",
      "|Midtown Center              |42935            |\n",
      "|LaGuardia Airport           |41769            |\n",
      "|Penn Station/Madison Sq West|39465            |\n",
      "|East Village                |36559            |\n",
      "|Upper East Side South       |36067            |\n",
      "|Clinton East                |35827            |\n",
      "|Midtown East                |34229            |\n",
      "|Upper East Side North       |32868            |\n",
      "|Union Sq                    |32500            |\n",
      "|Murray Hill                 |31892            |\n",
      "|Midtown North               |30451            |\n",
      "|Midtown South               |28526            |\n",
      "|Lincoln Square East         |28488            |\n",
      "|East Chelsea                |27992            |\n",
      "|Upper West Side South       |24986            |\n",
      "|Gramercy                    |24207            |\n",
      "|West Village                |23376            |\n",
      "|Central Park                |22790            |\n",
      "+----------------------------+-----------------+\n",
      "\n"
     ]
    }
   ],
   "source": [
    "df_valid = df.filter(\n",
    "    (F.col(\"TRIP_DISTANCE\") > 0) &\n",
    "    (F.col(\"TRIP_DURATION_MIN\") > 0)\n",
    ")\n",
    "\n",
    "df_ratio = df_valid.withColumn(\n",
    "    \"duration_per_mile\", \n",
    "    F.col(\"TRIP_DURATION_MIN\") / F.col(\"TRIP_DISTANCE\")\n",
    ")\n",
    "\n",
    "p99_duration_per_mile = df_ratio.approxQuantile(\"duration_per_mile\", [0.99], 0.01)[0]\n",
    "\n",
    "print(f\"Percentil 99 de duración por milla: {p99_duration_per_mile:.2f} min/milla\")\n",
    "\n",
    "outliers_congestion = df_ratio.filter(\n",
    "    F.col(\"duration_per_mile\") >= p99_duration_per_mile\n",
    ")\n",
    "\n",
    "# VALORES IMPOSIBLES\n",
    "outliers_physic = df_ratio.filter(\n",
    "    (F.col(\"TRIP_DISTANCE\") > 100) |\n",
    "    (F.col(\"TRIP_DURATION_MIN\") > 300)\n",
    ")\n",
    "\n",
    "outliers_total = outliers_congestion.union(outliers_physic)\n",
    "\n",
    "zonas_congestion = (\n",
    "    outliers_total.groupBy(\"PU_ZONE\")\n",
    "        .agg(F.count(\"*\").alias(\"num_outlier_trips\"))\n",
    "        .orderBy(F.col(\"num_outlier_trips\").desc())\n",
    ")\n",
    "\n",
    "zonas_congestion.limit(20).show(truncate=False)"
   ]
  },
  {
   "cell_type": "markdown",
   "id": "0825f52f",
   "metadata": {},
   "source": [
    "r. Yield por milla (total_amount/trip_distance) por borough y hora."
   ]
  },
  {
   "cell_type": "code",
   "execution_count": 18,
   "id": "db1ec623-81e3-43f7-a0fd-f1cce153d7ab",
   "metadata": {},
   "outputs": [
    {
     "name": "stdout",
     "output_type": "stream",
     "text": [
      "+-------------+-----------+---------+\n",
      "|   PU_BOROUGH|PICKUP_HOUR|avg_yield|\n",
      "+-------------+-----------+---------+\n",
      "|          N/A|          7|   236.17|\n",
      "|    Manhattan|         15|     10.5|\n",
      "|       Queens|         14|    12.11|\n",
      "|     Brooklyn|         21|     8.57|\n",
      "|          N/A|         21|   257.47|\n",
      "|       Queens|          2|     13.9|\n",
      "|          N/A|          9|   206.85|\n",
      "|      Unknown|         15|    25.56|\n",
      "|       Queens|          4|    11.03|\n",
      "|     Brooklyn|         13|     10.4|\n",
      "|    Manhattan|         17|     9.47|\n",
      "|    Manhattan|          8|    10.92|\n",
      "|       Queens|          8|    12.35|\n",
      "|Staten Island|         21|     50.0|\n",
      "|       Queens|          6|    10.31|\n",
      "|       Queens|          7|    11.28|\n",
      "|          N/A|         15|   320.32|\n",
      "|          N/A|         11|   233.91|\n",
      "|          EWR|         21|   745.54|\n",
      "|     Brooklyn|         18|     8.77|\n",
      "+-------------+-----------+---------+\n",
      "only showing top 20 rows\n",
      "\n"
     ]
    }
   ],
   "source": [
    "# VALORES RAZONABLES\n",
    "df_filtered = df.filter((F.col(\"TRIP_DISTANCE\") > 0) & (F.col(\"TRIP_DISTANCE\") < 1000))\n",
    "\n",
    "df_yield = df_filtered.withColumn(\"yield\", F.col(\"TOTAL_AMOUNT\") / F.col(\"TRIP_DISTANCE\"))\n",
    "\n",
    "\n",
    "yield_stats = (\n",
    "    df_yield.groupBy(\"PU_BOROUGH\", \"PICKUP_HOUR\")\n",
    "            .agg(F.round(F.avg(\"yield\"), 2).alias(\"avg_yield\"))\n",
    "\n",
    ")\n",
    "\n",
    "yield_stats.show()"
   ]
  },
  {
   "cell_type": "markdown",
   "id": "06d3365c",
   "metadata": {},
   "source": [
    "s. Cambios YoY en volumen y ticket promedio por service_type."
   ]
  },
  {
   "cell_type": "code",
   "execution_count": 19,
   "id": "1892fc4c-2f1f-4453-bcb5-843d4daf8d65",
   "metadata": {},
   "outputs": [
    {
     "name": "stdout",
     "output_type": "stream",
     "text": [
      "+------------+----+---------+----------+\n",
      "|SERVICE_TYPE|YEAR|num_trips|avg_ticket|\n",
      "+------------+----+---------+----------+\n",
      "|       green|2015| 20613863|     14.81|\n",
      "|       green|2016| 16294527|     14.72|\n",
      "|       green|2017| 11673937|     14.31|\n",
      "|       green|2018|  8743329|     15.83|\n",
      "|       green|2019|  5582043|     16.09|\n",
      "|       green|2020|  1191187|     15.84|\n",
      "|       green|2021|   650470|     19.03|\n",
      "|       green|2022|   742875|     18.44|\n",
      "|       green|2023|   722192|     23.42|\n",
      "|       green|2024|   626357|     24.07|\n",
      "|       green|2025|   321781|     24.15|\n",
      "|      yellow|2015|145926798|     16.03|\n",
      "|      yellow|2016|132176283|     16.45|\n",
      "|      yellow|2017| 75915278|     16.18|\n",
      "|      yellow|2018|101781114|     16.38|\n",
      "|      yellow|2019| 82434360|     19.08|\n",
      "|      yellow|2020| 23197048|     17.89|\n",
      "|      yellow|2021| 16354850|     18.36|\n",
      "|      yellow|2022| 37266273|     21.69|\n",
      "|      yellow|2023| 36036797|      29.0|\n",
      "|      yellow|2024| 36063754|     29.13|\n",
      "|      yellow|2025| 20855522|     28.98|\n",
      "+------------+----+---------+----------+\n",
      "\n"
     ]
    }
   ],
   "source": [
    "# years solo pueden ser 2015 a 2025\n",
    "\n",
    "df = df.filter((F.col(\"YEAR\") >= 2015) & (F.col(\"YEAR\") <= 2025))\n",
    "# total amount debe tener sentido\n",
    "df = df.filter((F.col(\"TOTAL_AMOUNT\") > 0) & (F.col(\"TOTAL_AMOUNT\") < 500))\n",
    "\n",
    "yoy_service = (\n",
    "    df.groupBy(\"SERVICE_TYPE\", \"YEAR\")\n",
    "      .agg(\n",
    "          F.count(\"*\").alias(\"num_trips\"),\n",
    "          F.round(F.avg(\"TOTAL_AMOUNT\"),2).alias(\"avg_ticket\")\n",
    "      )\n",
    "      .orderBy(\"SERVICE_TYPE\", \"YEAR\")\n",
    ")\n",
    "yoy_service.show(100)"
   ]
  },
  {
   "cell_type": "markdown",
   "id": "f081db88",
   "metadata": {},
   "source": [
    "t. Días con alta congestion_surcharge: efecto en total_amount vs días “normales”"
   ]
  },
  {
   "cell_type": "code",
   "execution_count": 20,
   "id": "61fe5ad3-e91f-4788-b0d8-6a8407b1e908",
   "metadata": {},
   "outputs": [
    {
     "name": "stdout",
     "output_type": "stream",
     "text": [
      "+-------------+---------------+---------+----------------+\n",
      "|   PU_BOROUGH|high_congestion|num_trips|avg_total_amount|\n",
      "+-------------+---------------+---------+----------------+\n",
      "|     Brooklyn|         normal| 31901103|           17.02|\n",
      "|      Unknown|           high|  1159141|           25.69|\n",
      "|     Brooklyn|           high|   762645|           31.02|\n",
      "|Staten Island|         normal|    43446|           49.47|\n",
      "|       Queens|           high| 10185300|           70.28|\n",
      "|          EWR|         normal|    66104|           94.43|\n",
      "|    Manhattan|           high|214547118|           19.56|\n",
      "|        Bronx|           high|    31565|           43.92|\n",
      "|Staten Island|           high|      705|           71.81|\n",
      "|       Queens|         normal| 56594076|           34.83|\n",
      "|    Manhattan|         normal|447448506|            14.5|\n",
      "|      Unknown|         normal|  7673123|           18.22|\n",
      "|          N/A|         normal|   422456|           79.35|\n",
      "|          N/A|           high|     7667|           54.57|\n",
      "|        Bronx|         normal|  4327382|           17.87|\n",
      "|          EWR|           high|      301|          101.37|\n",
      "+-------------+---------------+---------+----------------+\n",
      "\n"
     ]
    }
   ],
   "source": [
    "df_cong = df.withColumn(\"high_congestion\", F.when(F.col(\"CONGESTION_SURCHARGE\")>2, \"high\").otherwise(\"normal\"))\n",
    "\n",
    "congestion_effect = (\n",
    "    df_cong.groupBy(\"PU_BOROUGH\", \"high_congestion\")\n",
    "            .agg(\n",
    "                F.count(\"*\").alias(\"num_trips\"),\n",
    "                F.round(F.avg(\"TOTAL_AMOUNT\"),2).alias(\"avg_total_amount\")\n",
    "            )\n",
    ")\n",
    "congestion_effect.show()"
   ]
  }
 ],
 "metadata": {
  "kernelspec": {
   "display_name": "Python 3 (ipykernel)",
   "language": "python",
   "name": "python3"
  },
  "language_info": {
   "codemirror_mode": {
    "name": "ipython",
    "version": 3
   },
   "file_extension": ".py",
   "mimetype": "text/x-python",
   "name": "python",
   "nbconvert_exporter": "python",
   "pygments_lexer": "ipython3",
   "version": "3.11.6"
  }
 },
 "nbformat": 4,
 "nbformat_minor": 5
}
